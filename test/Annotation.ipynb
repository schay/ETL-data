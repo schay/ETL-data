{
 "cells": [
  {
   "cell_type": "code",
   "execution_count": 117,
   "metadata": {
    "ExecuteTime": {
     "end_time": "2019-02-04T14:04:38.017681Z",
     "start_time": "2019-02-04T14:04:37.930473Z"
    }
   },
   "outputs": [
    {
     "name": "stdout",
     "output_type": "stream",
     "text": [
      "The autoreload extension is already loaded. To reload it, use:\n",
      "  %reload_ext autoreload\n"
     ]
    }
   ],
   "source": [
    "%load_ext autoreload\n",
    "%autoreload 2"
   ]
  },
  {
   "cell_type": "code",
   "execution_count": 10,
   "metadata": {
    "ExecuteTime": {
     "end_time": "2019-02-04T10:07:54.204560Z",
     "start_time": "2019-02-04T10:07:54.200357Z"
    }
   },
   "outputs": [],
   "source": [
    "import numpy as np\n",
    "from data_util import RandomAugmentSequence, center_to_corner_box\n",
    "from data_util import get_anchors, extraction_boxes, show_image_labels"
   ]
  },
  {
   "cell_type": "code",
   "execution_count": 2,
   "metadata": {
    "ExecuteTime": {
     "end_time": "2019-02-04T10:03:38.547203Z",
     "start_time": "2019-02-04T10:03:03.286198Z"
    }
   },
   "outputs": [],
   "source": [
    "# 全データの読み込み\n",
    "file_path = '/Users/chai/data/etlcdb/numpy/etl9b-box-label.npz'\n",
    "loaded_array = np.load(file_path)\n",
    "images = loaded_array['arr_0']\n",
    "boxes = loaded_array['arr_1']\n",
    "labels = loaded_array['arr_2']"
   ]
  },
  {
   "cell_type": "code",
   "execution_count": 3,
   "metadata": {
    "ExecuteTime": {
     "end_time": "2019-02-04T10:03:38.554778Z",
     "start_time": "2019-02-04T10:03:38.549465Z"
    }
   },
   "outputs": [],
   "source": [
    "# パラメータ\n",
    "n_concat = 3\n",
    "batch_size = 10\n",
    "idx = 100\n",
    "input_shape = np.array([64*1.5, 64*2.5], dtype=np.int64)\n",
    "anchors_path = 'model_data/yolo_anchors.txt'\n",
    "anchors = get_anchors(anchors_path)\n",
    "num_classes = 3035"
   ]
  },
  {
   "cell_type": "code",
   "execution_count": 4,
   "metadata": {
    "ExecuteTime": {
     "end_time": "2019-02-04T10:03:42.649604Z",
     "start_time": "2019-02-04T10:03:38.557208Z"
    }
   },
   "outputs": [],
   "source": [
    "#データの変換\n",
    "corner_boxes = np.array([center_to_corner_box(box) for box in boxes])\n",
    "decode_labels = np.argmax(labels, axis=1)"
   ]
  },
  {
   "cell_type": "code",
   "execution_count": 146,
   "metadata": {
    "ExecuteTime": {
     "end_time": "2019-02-04T14:23:43.898944Z",
     "start_time": "2019-02-04T14:23:35.720845Z"
    }
   },
   "outputs": [],
   "source": [
    "data_sequence = RandomAugmentSequence(\n",
    "    images, corner_boxes, decode_labels, batch_size, input_shape, anchors,\n",
    "    num_classes, n_concat, r_translate=0.1, r_scale=0.3, r_aspect_rate=0.2)"
   ]
  },
  {
   "cell_type": "code",
   "execution_count": 147,
   "metadata": {
    "ExecuteTime": {
     "end_time": "2019-02-04T14:23:44.054512Z",
     "start_time": "2019-02-04T14:23:43.901267Z"
    }
   },
   "outputs": [],
   "source": [
    "idx = 1\n",
    "data = data_sequence.__getitem__(idx)"
   ]
  },
  {
   "cell_type": "code",
   "execution_count": 148,
   "metadata": {
    "ExecuteTime": {
     "end_time": "2019-02-04T14:23:44.090249Z",
     "start_time": "2019-02-04T14:23:44.057482Z"
    }
   },
   "outputs": [],
   "source": [
    "b = 1\n",
    "image = data[0][0][b]\n",
    "box, score, label = extraction_boxes(data[0][2][b])"
   ]
  },
  {
   "cell_type": "code",
   "execution_count": 151,
   "metadata": {
    "ExecuteTime": {
     "end_time": "2019-02-04T14:25:11.530702Z",
     "start_time": "2019-02-04T14:25:11.338410Z"
    }
   },
   "outputs": [
    {
     "data": {
      "image/png": "[encoded data removed]",
      "text/plain": [
       "<Figure size 432x288 with 1 Axes>"
      ]
     },
     "metadata": {
      "needs_background": "light"
     },
     "output_type": "display_data"
    }
   ],
   "source": [
    "show_image_labels(np.squeeze(image), box, score, label)"
   ]
  },
  {
   "cell_type": "code",
   "execution_count": 150,
   "metadata": {
    "ExecuteTime": {
     "end_time": "2019-02-04T14:23:50.194749Z",
     "start_time": "2019-02-04T14:23:50.156154Z"
    }
   },
   "outputs": [
    {
     "data": {
      "text/plain": [
       "(96, 160, 1)"
      ]
     },
     "execution_count": 150,
     "metadata": {},
     "output_type": "execute_result"
    }
   ],
   "source": [
    "image.shape"
   ]
  },
  {
   "cell_type": "code",
   "execution_count": null,
   "metadata": {},
   "outputs": [],
   "source": []
  }
 ],
 "metadata": {
  "kernelspec": {
   "display_name": "Python 3",
   "language": "python",
   "name": "python3"
  },
  "language_info": {
   "codemirror_mode": {
    "name": "ipython",
    "version": 3
   },
   "file_extension": ".py",
   "mimetype": "text/x-python",
   "name": "python",
   "nbconvert_exporter": "python",
   "pygments_lexer": "ipython3",
   "version": "3.6.6"
  }
 },
 "nbformat": 4,
 "nbformat_minor": 2
}
