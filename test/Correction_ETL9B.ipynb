{
 "cells": [
  {
   "cell_type": "code",
   "execution_count": 1,
   "metadata": {
    "ExecuteTime": {
     "end_time": "2019-02-10T10:51:08.263936Z",
     "start_time": "2019-02-10T10:51:05.884021Z"
    }
   },
   "outputs": [],
   "source": [
    "import math\n",
    "import struct\n",
    "\n",
    "import matplotlib.patches as patches\n",
    "import matplotlib.pyplot as plt\n",
    "import numpy as np\n",
    "from PIL import Image, ImageEnhance\n",
    "from tensorflow.python.keras.utils import to_categorical"
   ]
  },
  {
   "cell_type": "code",
   "execution_count": 2,
   "metadata": {
    "ExecuteTime": {
     "end_time": "2019-02-10T10:51:08.277304Z",
     "start_time": "2019-02-10T10:51:08.266780Z"
    }
   },
   "outputs": [],
   "source": [
    "class ETL9B:\n",
    "    def __init__(self, path, num, label_num, drop_records=[], seek=0):\n",
    "        self.labels = label_num\n",
    "        self.max_nums = num\n",
    "        self.image_shape = [64, 64]\n",
    "        self.filename = path\n",
    "        self.drop_records = drop_records\n",
    "        self.file = open(self.filename, 'rb')\n",
    "        self.seek = seek\n",
    "        self.pad_image = np.zeros([1, 64])\n",
    "\n",
    "    def is_dropped(self, label, num):\n",
    "        if self.drop_records:\n",
    "            for drop_record in self.drop_records:\n",
    "                if drop_record[0] == label and drop_record[1] == num:\n",
    "                    return True\n",
    "        return False\n",
    "\n",
    "    def _read(self, skip):\n",
    "        record_size = 576\n",
    "        self.file.seek(skip * record_size)\n",
    "        s = self.file.read(record_size)\n",
    "        r = struct.unpack('>2H4s504s64x', s)\n",
    "        i1 = Image.frombytes('1', (64, 63), r[3], 'raw')\n",
    "        return np.array(i1).astype(np.bool)\n",
    "\n",
    "    def get_chars(self):\n",
    "        images = []\n",
    "        labels = []\n",
    "        seek = self.seek\n",
    "        for num in range(self.max_nums):\n",
    "            for label in range(self.labels):\n",
    "                if not self.is_dropped(label, num):\n",
    "                    x = self._read(label + seek + self.labels*num)\n",
    "                    images.append(x)\n",
    "                    labels.append(label)\n",
    "                else:\n",
    "                    seek -= 1\n",
    "        images = np.array(images)\n",
    "        pad_image = np.zeros([images.shape[0], 1, images.shape[2]], dtype=np.bool)\n",
    "        return np.concatenate([images, pad_image], axis=1)[..., np.newaxis], to_categorical(np.asarray(labels), self.labels)"
   ]
  },
  {
   "cell_type": "code",
   "execution_count": 3,
   "metadata": {
    "ExecuteTime": {
     "end_time": "2019-02-10T10:51:49.155024Z",
     "start_time": "2019-02-10T10:51:08.280956Z"
    }
   },
   "outputs": [],
   "source": [
    "etl9b_path = '/Users/chai/data/etlcdb/ETL9B/'\n",
    "etl9b_x = []\n",
    "etl9b_y = []\n",
    "for i in range(5):\n",
    "    x, y = ETL9B(etl9b_path + 'ETL9B_' + str(i+1),\n",
    "                 40, 3036, seek=1).get_chars()\n",
    "    etl9b_x.extend(x)\n",
    "    etl9b_y.extend(y)\n",
    "images, labels = np.asarray(etl9b_x), np.asarray(etl9b_y)"
   ]
  },
  {
   "cell_type": "code",
   "execution_count": 4,
   "metadata": {
    "ExecuteTime": {
     "end_time": "2019-02-10T10:51:49.161607Z",
     "start_time": "2019-02-10T10:51:49.156930Z"
    }
   },
   "outputs": [],
   "source": [
    "def center_to_corner_box(b):\n",
    "    return np.array([b[0] - b[2] / 2, b[1] - b[3] / 2, b[0] + b[2] / 2, b[1] + b[3] / 2])\n",
    "\n",
    "def corner_to_center_box(b):\n",
    "    return np.array([b[0] + (b[2] - b[0]) / 2, b[1] + (b[3] - b[1]) / 2, b[2] - b[0], b[3] - b[1]])"
   ]
  },
  {
   "cell_type": "code",
   "execution_count": 5,
   "metadata": {
    "ExecuteTime": {
     "end_time": "2019-02-10T10:51:49.168797Z",
     "start_time": "2019-02-10T10:51:49.163264Z"
    }
   },
   "outputs": [],
   "source": [
    "def show_image_labels(image, boxes, scores, classes):\n",
    "    ax = plt.axes()\n",
    "    plt.gray()\n",
    "    plt.imshow(image)\n",
    "    for box in boxes:\n",
    "        color = 'r'\n",
    "        width = box[2] * image.shape[0]\n",
    "        height = box[3] * image.shape[1]\n",
    "        point = [box[0] * image.shape[0]-width/2, box[1] * image.shape[1]-height/2]\n",
    "        patch = patches.Rectangle(point, width, height, fill=False, color=color)\n",
    "        ax.add_patch(patch)\n",
    "        plt.text(point[0], point[1], np.argmax(classes), color=color)\n",
    "    plt.show()"
   ]
  },
  {
   "cell_type": "code",
   "execution_count": 6,
   "metadata": {
    "ExecuteTime": {
     "end_time": "2019-02-10T10:51:49.179295Z",
     "start_time": "2019-02-10T10:51:49.173787Z"
    }
   },
   "outputs": [],
   "source": [
    "def create_trim_box(binary_image):\n",
    "    y, x = np.where(binary_image == True)\n",
    "    shape = binary_image.shape\n",
    "    minx = min(x)\n",
    "    miny = min(y)\n",
    "    diffx = max(x) - minx\n",
    "    diffy = max(y) - miny\n",
    "    return [minx + diffx/2, miny + diffy/2, diffx, diffy]\n",
    "    # return [(minx + diffx/2)/shape[0], (miny + diffy/2)/shape[1], diffx/shape[0], diffy/shape[1]]"
   ]
  },
  {
   "cell_type": "code",
   "execution_count": 7,
   "metadata": {
    "ExecuteTime": {
     "end_time": "2019-02-10T10:54:24.470916Z",
     "start_time": "2019-02-10T10:51:49.181505Z"
    }
   },
   "outputs": [],
   "source": [
    "boxes = list(map(create_trim_box, images[..., 0]))"
   ]
  },
  {
   "cell_type": "code",
   "execution_count": 8,
   "metadata": {
    "ExecuteTime": {
     "end_time": "2019-02-10T10:54:34.118538Z",
     "start_time": "2019-02-10T10:54:24.473114Z"
    }
   },
   "outputs": [],
   "source": [
    "# データの変換\n",
    "boxes = np.array([center_to_corner_box(box) for box in boxes])\n",
    "labels = np.argmax(labels, axis=1)"
   ]
  },
  {
   "cell_type": "code",
   "execution_count": 10,
   "metadata": {
    "ExecuteTime": {
     "end_time": "2019-02-10T10:54:48.953007Z",
     "start_time": "2019-02-10T10:54:47.395567Z"
    }
   },
   "outputs": [],
   "source": [
    "# cast\n",
    "images = images.astype(np.uint8)\n",
    "boxes = boxes.astype(np.int8)\n",
    "labels = labels.astype(np.uint16)"
   ]
  },
  {
   "cell_type": "code",
   "execution_count": 11,
   "metadata": {
    "ExecuteTime": {
     "end_time": "2019-02-10T10:54:50.509607Z",
     "start_time": "2019-02-10T10:54:48.956093Z"
    }
   },
   "outputs": [],
   "source": [
    "# 複数の配列を1ファイルに書き込み（非圧縮）\n",
    "out_dir = '/Users/chai/data/etlcdb/numpy/etl9b_2/'\n",
    "np.save(out_dir + 'images', images)\n",
    "np.save(out_dir + 'boxes', boxes)\n",
    "np.save(out_dir + 'labels', labels)"
   ]
  },
  {
   "cell_type": "code",
   "execution_count": 15,
   "metadata": {
    "ExecuteTime": {
     "end_time": "2019-02-10T10:55:32.347987Z",
     "start_time": "2019-02-10T10:55:30.702762Z"
    }
   },
   "outputs": [],
   "source": [
    "loaded_images = np.load(out_dir + 'images.npy')\n",
    "loaded_boxes = np.load(out_dir + 'boxes.npy')\n",
    "loaded_labels = np.load(out_dir + 'labels.npy')"
   ]
  },
  {
   "cell_type": "code",
   "execution_count": 16,
   "metadata": {
    "ExecuteTime": {
     "end_time": "2019-02-10T10:55:40.784880Z",
     "start_time": "2019-02-10T10:55:32.350475Z"
    }
   },
   "outputs": [],
   "source": [
    "num_labels = 3036\n",
    "loaded_boxes = np.array([corner_to_center_box(box) for box in loaded_boxes])\n",
    "loaded_labels = to_categorical(loaded_labels, num_labels)"
   ]
  },
  {
   "cell_type": "code",
   "execution_count": 17,
   "metadata": {
    "ExecuteTime": {
     "end_time": "2019-02-10T10:55:40.833842Z",
     "start_time": "2019-02-10T10:55:40.787829Z"
    }
   },
   "outputs": [],
   "source": [
    "image_size = loaded_images.shape[1:3]\n",
    "loaded_boxes[..., :2] = loaded_boxes[..., :2] / image_size\n",
    "loaded_boxes[..., 2:4] = loaded_boxes[..., 2:4] / image_size"
   ]
  },
  {
   "cell_type": "code",
   "execution_count": 18,
   "metadata": {
    "ExecuteTime": {
     "end_time": "2019-02-10T10:55:40.845927Z",
     "start_time": "2019-02-10T10:55:40.836674Z"
    }
   },
   "outputs": [],
   "source": [
    "num = 200"
   ]
  },
  {
   "cell_type": "code",
   "execution_count": 19,
   "metadata": {
    "ExecuteTime": {
     "end_time": "2019-02-10T10:55:41.061316Z",
     "start_time": "2019-02-10T10:55:40.847873Z"
    }
   },
   "outputs": [
    {
     "data": {
      "image/png": "[encoded data removed]",
      "text/plain": [
       "<Figure size 432x288 with 1 Axes>"
      ]
     },
     "metadata": {
      "needs_background": "light"
     },
     "output_type": "display_data"
    }
   ],
   "source": [
    "show_image_labels(loaded_images[num, ..., 0], [loaded_boxes[num]], [1], [loaded_labels[num]])"
   ]
  },
  {
   "cell_type": "code",
   "execution_count": 20,
   "metadata": {
    "ExecuteTime": {
     "end_time": "2019-02-10T10:55:41.068958Z",
     "start_time": "2019-02-10T10:55:41.063281Z"
    }
   },
   "outputs": [
    {
     "data": {
      "text/plain": [
       "array([0.4921875, 0.484375 , 0.609375 , 0.96875  ])"
      ]
     },
     "execution_count": 20,
     "metadata": {},
     "output_type": "execute_result"
    }
   ],
   "source": [
    "loaded_boxes[num]"
   ]
  },
  {
   "cell_type": "code",
   "execution_count": null,
   "metadata": {},
   "outputs": [],
   "source": []
  }
 ],
 "metadata": {
  "kernelspec": {
   "display_name": "Python 3",
   "language": "python",
   "name": "python3"
  },
  "language_info": {
   "codemirror_mode": {
    "name": "ipython",
    "version": 3
   },
   "file_extension": ".py",
   "mimetype": "text/x-python",
   "name": "python",
   "nbconvert_exporter": "python",
   "pygments_lexer": "ipython3",
   "version": "3.6.6"
  }
 },
 "nbformat": 4,
 "nbformat_minor": 2
}
